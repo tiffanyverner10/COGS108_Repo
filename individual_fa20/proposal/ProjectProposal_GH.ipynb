{
 "cells": [
  {
   "cell_type": "markdown",
   "metadata": {},
   "source": [
    "# COGS 108 - Project Proposal"
   ]
  },
  {
   "cell_type": "markdown",
   "metadata": {},
   "source": [
    "# Names & GitHub ID\n",
    "\n",
    "- Name: Tiffany Verner\n",
    "- GitHub Username: tiffanyverner10"
   ]
  },
  {
   "cell_type": "markdown",
   "metadata": {},
   "source": [
    "# Research Question"
   ]
  },
  {
   "cell_type": "markdown",
   "metadata": {},
   "source": [
    "Where should more dog parks be added in order to create an accessible network of lease free locations throughout San Diego?"
   ]
  },
  {
   "cell_type": "markdown",
   "metadata": {},
   "source": [
    "## Background and Prior Work"
   ]
  },
  {
   "cell_type": "markdown",
   "metadata": {},
   "source": [
    "Leash free locations, commonly known as dog parks, are parks that have designated fenced areas for dogs to run around without a leash. These areas allow dogs to socialize and play in a controlled environment. Dog parks keep dogs safe from traffic, away from harmful objects or areas, and prevent them from distrubing other park-goers. These parks can have special water fountains for the dogs, bags for the owners to clean up after them, and some parks even have lights for the park to be enjoyed at night. Currently, per the City of San Diego website, there are seventeen approved leash-free locations (1). This is in comparison to the number of city parks, which is over four hundred (2). \n",
    "\n",
    "City parks restrict owners to maintaining their dogs on a leash that cannot exceed eight feet. If owners do not abide with that law and unleash their dogs in an area not disclosed for off-leash dogs, they are at risk of receiving a fine. A report from NBC San Diego in 2019 focused on the increase of leash enforcement and ticketing from the San Diego Humane Society (3). Popular parks, such as Kate Sessions in Pacific Beach, are starting to see an influx of citations for off-leash dogs. Owners have expressed that there are not enough dog parks in their neighborhood, or the current ones in their area are too small. In response to the owners' feedback, the Pacific Beach Town Council is working to add an lease free location at Crown Point, but that initiative is still in the works (4).\n",
    "\n",
    "References (include links)\n",
    "- 1)https://www.sandiego.gov/park-and-recreation/parks/dogs/leashfree\n",
    "- 2)https://www.sandiego.gov/park-and-recreation/general-info\n",
    "- 3)https://www.nbcsandiego.com/news/local/dog-off-leash-park-citations-san-diego-pacific-beach/2338/ \n",
    "- 4)https://www.pbtowncouncil.org/issues/"
   ]
  },
  {
   "cell_type": "markdown",
   "metadata": {},
   "source": [
    "# Hypothesis\n"
   ]
  },
  {
   "cell_type": "markdown",
   "metadata": {},
   "source": [
    "I hypothesize that there is a need for more dog parks in the inland, surburban areas of San Diego. Currently, dog parks seem to be placed more in foot traffic heavy areas of the city, instead of in the communities and neighborhoods. "
   ]
  },
  {
   "cell_type": "markdown",
   "metadata": {},
   "source": [
    "# Data"
   ]
  },
  {
   "cell_type": "markdown",
   "metadata": {},
   "source": [
    "*Explain what the ideal dataset you would want to answer this question. (This should include: What variables? How many observations? Who/what/how would these data be collected? How would these data be stored/organized?)*"
   ]
  },
  {
   "cell_type": "markdown",
   "metadata": {},
   "source": [
    "# Ethics & Privacy"
   ]
  },
  {
   "cell_type": "markdown",
   "metadata": {},
   "source": [
    "*Fill in your ethics & privacy discussion here*"
   ]
  }
 ],
 "metadata": {
  "kernelspec": {
   "display_name": "Python 3",
   "language": "python",
   "name": "python3"
  },
  "language_info": {
   "codemirror_mode": {
    "name": "ipython",
    "version": 3
   },
   "file_extension": ".py",
   "mimetype": "text/x-python",
   "name": "python",
   "nbconvert_exporter": "python",
   "pygments_lexer": "ipython3",
   "version": "3.7.6"
  }
 },
 "nbformat": 4,
 "nbformat_minor": 2
}
