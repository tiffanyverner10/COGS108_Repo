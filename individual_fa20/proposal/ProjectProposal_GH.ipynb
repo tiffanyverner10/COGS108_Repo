{
 "cells": [
  {
   "cell_type": "markdown",
   "metadata": {},
   "source": [
    "# COGS 108 - Project Proposal"
   ]
  },
  {
   "cell_type": "markdown",
   "metadata": {},
   "source": [
    "# Names & GitHub ID\n",
    "\n",
    "- Name: Tiffany Verner\n",
    "- GitHub Username: tiffanyverner10"
   ]
  },
  {
   "cell_type": "markdown",
   "metadata": {},
   "source": [
    "# Research Question"
   ]
  },
  {
   "cell_type": "markdown",
   "metadata": {},
   "source": [
    "Where should more dog parks be added in order to create an accessible network of leash free locations throughout San Diego?"
   ]
  },
  {
   "cell_type": "markdown",
   "metadata": {},
   "source": [
    "## Background and Prior Work"
   ]
  },
  {
   "cell_type": "markdown",
   "metadata": {},
   "source": [
    "Leash free locations, commonly known as dog parks, are parks that have designated fenced areas for dogs to run around without a leash. These areas allow dogs to socialize and play in a controlled environment. Dog parks keep dogs safe from traffic, away from harmful objects or areas, and prevent them from distrubing other park-goers. These parks can have special water fountains for the dogs, bags for the owners to clean up after them, and some parks even have lights for the park to be enjoyed at night. Currently, per the City of San Diego website, there are 17 approved leash-free locations (1). This is in comparison to the number of city parks, which is over 400 (2). \n",
    "\n",
    "City parks restrict owners to maintaining their dogs on a leash that cannot exceed 8 feet. If owners do not abide with that law and unleash their dogs in an area not disclosed for off-leash dogs, they are at risk of receiving a fine. A report from NBC San Diego in 2019 focused on the increase of leash enforcement and ticketing from the San Diego Humane Society (3). Popular parks, such as Kate Sessions in Pacific Beach, are starting to see an influx of citations for off-leash dogs. Owners have expressed that there are not enough dog parks in their neighborhood, or the current ones in their area are too small. In response to the owners' feedback, the Pacific Beach Town Council is working to add an leash free location at the Crown Point park, but that initiative is still a work in progress(4).\n",
    "\n",
    "References (include links)\n",
    "- 1)https://www.sandiego.gov/park-and-recreation/parks/dogs/leashfree\n",
    "- 2)https://www.sandiego.gov/park-and-recreation/general-info\n",
    "- 3)https://www.nbcsandiego.com/news/local/dog-off-leash-park-citations-san-diego-pacific-beach/2338/ \n",
    "- 4)https://www.pbtowncouncil.org/issues/"
   ]
  },
  {
   "cell_type": "markdown",
   "metadata": {},
   "source": [
    "# Hypothesis\n"
   ]
  },
  {
   "cell_type": "markdown",
   "metadata": {},
   "source": [
    "I hypothesize that there is a need for more dog parks in the inland, surburban areas of San Diego. Currently, dog parks seem to be placed more in foot traffic heavy areas of the city, instead of in the communities and neighborhoods. "
   ]
  },
  {
   "cell_type": "markdown",
   "metadata": {},
   "source": [
    "# Data"
   ]
  },
  {
   "cell_type": "markdown",
   "metadata": {},
   "source": [
    "To answer this question, it's important that I have data on all the different types of parks in San Diego. Ideally, this data would be a CSV file where each row is a different park and each column contains Boolean values based on the park's properties. Some examples of these columns include whether the park is a dog park or not, if it has lighting for nighttime activities, and if the park has water fountains or not. A crucial variable that is needed for me to answer my question is a variable storing the neighborhood of each park. Another variable would be useful is a float that stores the distance in miles to the next closest park. Since my research is based on location, this would help me determine which neighborhoods are severely lacking dog parks compared to other neighborhoods. \n",
    "\n",
    "All of this data can be collected through the City of San Diego's Park and Recreation website. The website provides a list of dog parks and their properties, as well as a map of all the parks in San Diego. To fully answer my question, I would need data on every park, which means that I would need over 400 observations. "
   ]
  },
  {
   "cell_type": "markdown",
   "metadata": {},
   "source": [
    "# Ethics & Privacy"
   ]
  },
  {
   "cell_type": "markdown",
   "metadata": {},
   "source": [
    "Since my research is based on public spaces, my proposed dataset is also based on public data. My data avoids using any information from individuals, so I am avoiding risking anyone's privacy. There could be potential privacy concerns if hypothethically I were collecting data from various dog owners in San Diego and asking for their opinions on the current dog parks throughout the city, but this information is not needed. Additionally, even though my data is based on locations instead of people, since they are public locations that can be found through the City of San Diego's website, there aren't any privacy risks with using these parks as my data. \n",
    "\n",
    "An important bias that I am working to avoid is the issue of financial disparity based on location. Dogs could potentially be seen as a sign of wealth, so recommending dog parks being built in neighborhoods with certain incomes could be a violation of ethics. However to prevent this, my data doesn't require any financial-related information to answer my research question effectively. My aim is to answer my question based on the location of current parks, which are spread out across all of San Diego. "
   ]
  },
  {
   "cell_type": "code",
   "execution_count": null,
   "metadata": {},
   "outputs": [],
   "source": []
  }
 ],
 "metadata": {
  "kernelspec": {
   "display_name": "Python 3",
   "language": "python",
   "name": "python3"
  },
  "language_info": {
   "codemirror_mode": {
    "name": "ipython",
    "version": 3
   },
   "file_extension": ".py",
   "mimetype": "text/x-python",
   "name": "python",
   "nbconvert_exporter": "python",
   "pygments_lexer": "ipython3",
   "version": "3.7.6"
  }
 },
 "nbformat": 4,
 "nbformat_minor": 2
}
